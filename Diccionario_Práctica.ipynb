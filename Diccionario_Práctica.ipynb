{
  "nbformat": 4,
  "nbformat_minor": 0,
  "metadata": {
    "colab": {
      "provenance": [],
      "include_colab_link": true
    },
    "kernelspec": {
      "name": "python3",
      "display_name": "Python 3"
    },
    "language_info": {
      "name": "python"
    }
  },
  "cells": [
    {
      "cell_type": "markdown",
      "metadata": {
        "id": "view-in-github",
        "colab_type": "text"
      },
      "source": [
        "<a href=\"https://colab.research.google.com/github/MatiasBarrera7291/tps-pii-colab/blob/main/Diccionario_Pr%C3%A1ctica.ipynb\" target=\"_parent\"><img src=\"https://colab.research.google.com/assets/colab-badge.svg\" alt=\"Open In Colab\"/></a>"
      ]
    },
    {
      "cell_type": "code",
      "execution_count": null,
      "metadata": {
        "id": "8VOD-zpMJovw"
      },
      "outputs": [],
      "source": [
        "# Listas de alumnos\n",
        "estudiantes_5d = [\n",
        "   (\"Alurralde, Solange Stefania\",\"D\",\"02/04/2007\"),\n",
        "   (\"Alvarado, Ludmila Del Milagro\",\"D\",\"06/09/2006\"),\n",
        "   (\"Angel, Camila Juliana\",\"D\",\"07/03/2007\"),\n",
        "   (\"Arenas, Lucas Gabriel\",\"D\",\"26/06/2007\"),\n",
        "   (\"Caseres, Maria Antonia\",\"D\",\"01/07/2006\"),\n",
        "   (\"Castillo, Paulina Milagros\",\"D\",\"01/06/2007\"),\n",
        "   (\"Correa Segovia, Hugo Mariano\",\"D\",\"04/12/2006\"),\n",
        "   (\"D Elia, Alvaro Tadeo\",\"D\",\"27/08/2006\"),\n",
        "   (\"Flores, Victoria Agustina\",\"D\",\"12/12/2006\"),\n",
        "   (\"Geronimo Soriano, Lizzie Amaya\",\"D\",\"20/01/2007\"),\n",
        "   (\"GUZMAN, ANGÉLICA MORENA\",\"D\",\"11/04/2007\"),\n",
        "   (\"Guzman, Jazmin Esmeralda Belen\",\"D\",\"31/07/2006\"),\n",
        "   (\"Jaime, Anita Maria Belen\",\"D\",\"19/04/2007\"),\n",
        "   (\"Lacour Polo, Nazarena\",\"D\",\"19/12/2005\"),\n",
        "   (\"Lascano Guanca, Marcelo Fabricio\",\"D\",\"17/02/2006\"),\n",
        "   (\"Lezcano, Celia Morena\",\"D\",\"01/07/2005\"),\n",
        "   (\"Martinez, Tomas Andres\",\"D\",\"22/03/2007\"),\n",
        "   (\"PORTELLA VALDIVIA, PEDRO FRANCISCO\",\"D\",\"24/01/2007\"),\n",
        "   (\"Retamal Cisneros, Zacarias Josue\",\"D\",\"24/02/2007\"),\n",
        "   (\"Rosales, Francisco Gabriel\",\"D\",\"14/11/2006\"),\n",
        "   (\"Salem Barba, Mahia\",\"D\",\"14/10/2005\"),\n",
        "   (\"Soto Camara, Agustin Ignacio\",\"D\",\"07/11/2005\"),\n",
        "   (\"Villalba, Irina\",\"D\",\"09/09/2006\"),\n",
        "   (\"Voltolini, Emanuel Tobias\",\"D\",\"17/09/2006\"),\n",
        "   (\"Zalazar, Santino Stefano\",\"D\",\"30/09/2006\")\n",
        "]\n",
        "\n",
        "estudiantes_5c=[\n",
        "    (\"ABUD LASPIUR, LOURDES MARIEL\",\"C\",\"05/12/2006\"),\n",
        "    (\"Amador, Luana Micaela\",\"C\",\"09/12/2006\"),\n",
        "    (\"Anaquin, Leonardo Ezequiel\",\"C\",\"06/09/2005\"),\n",
        "    (\"Araoz Sanchez, Lautaro Nahuel\",\"C\",\"28/12/2005\"),\n",
        "    (\"Argañaraz, Agostina Abril\",\"C\",\"11/10/2006\"),\n",
        "    (\"Barrera, Matias Ezequiel\",\"C\",\"27/02/2007\"),\n",
        "    (\"Barrozo Vedia, Joaquin Nicolas\",\"C\",\"15/04/2006\"),\n",
        "    (\"Bettinelli, Valentino\",\"C\",\"12/07/2006\"),\n",
        "    (\"Bracamonte Martinez, Salvador\",\"C\",\"02/11/2005\"),\n",
        "    (\"Colque Rivero, Ariana Zoe Del Valle\",\"C\",\"27/12/2006\"),\n",
        "    (\"Diaz, Dulce Maitena\",\"C\",\"11/12/2006\"),\n",
        "    (\"FIGUEROA, SANTINO JOSUE\",\"C\",\"12/05/2007\"),\n",
        "    (\"Flores Cardozo, Agustina Tiara\",\"C\",\"18/03/2006\"),\n",
        "    (\"Gallo, Octavio Ismael\",\"C\",\"04/08/2006\"),\n",
        "    (\"Galvan, Lourdes Yamila\",\"C\",\"19/08/2005\"),\n",
        "    (\"Giangreco, Vitto Tomasso\",\"C\",\"21/03/2007\"),\n",
        "    (\"Grancara, Martina Luna\",\"C\",\"15/12/2006\"),\n",
        "    (\"Guanca, Sara Elizabeth\",\"C\",\"17/01/2007\"),\n",
        "    (\"Lopez, Victoria Constanza\",\"C\",\"12/11/2007\"),\n",
        "    (\"Mamani Garrido, Rosario Agostina\",\"C\",\"24/10/2006\"),\n",
        "    (\"Marinaro, Martin Ezequiel\",\"C\",\"03/11/2006\"),\n",
        "    (\"Merluzzi Dagum, Ignacio\",\"C\",\"22/12/2005\"),\n",
        "    (\"Messina, Martina\",\"C\",\"13/07/2005\"),\n",
        "    (\"RASUK, KARIM\", \"C\",\"13/07/2007\"),\n",
        "    (\"Rios, Lucia Magali\",\"C\",\"22/09/2006\"),\n",
        "    (\"Sanchez Flores, Matías Agustín\",\"C\",\"15/02/2007\"),\n",
        "    (\"Scarano, Renato Marcelo\",\"C\",\"06/12/2006\"),\n",
        "    (\"Sierra, Lucas Mauricio\",\"C\",\"03/04/2005\"),\n",
        "    (\"Tapia, Martin Gabriel\",\"C\",\"30/05/2006\"),\n",
        "    (\"Vilte, Mia Antonella Alondra\",\"C\",\"10/09/2005\"),\n",
        "    (\"Virgillito, Katya Milena\",\"C\",\"19/06/2007\")\n",
        "]"
      ]
    },
    {
      "cell_type": "markdown",
      "source": [
        "## Dada la lista estudiantes:\n",
        "> - Hacer una celda para resolver cada punto.\n",
        "- El TP resuelto será revisado en tu repositorio, no es necesario que lo envíes, pero sí que lo pushees correctamente.\n",
        "- En la nota inicial se contempla:\n",
        "  - La incorporación de este documento a tu propio respositorio.\n",
        "  - El pusheo de los cambios realizados.\n",
        "  - La resolución de los ejercicios propuestos.\n"
      ],
      "metadata": {
        "id": "rd6Ug6v3J4uN"
      }
    },
    {
      "cell_type": "markdown",
      "source": [
        "1. Reemplaza todos los valores del nombre por los que obtengas del método title(). De esta manera las listas quedaran con los datos más homogéneos."
      ],
      "metadata": {
        "id": "wRLng-uURyJ3"
      }
    },
    {
      "cell_type": "code",
      "source": [
        "for i in range(len(estudiantes_5d)):\n",
        "    apellido_nombre,division,fecha_nac=estudiantes_5d[i]\n",
        "    estudiantes_5d[i]=apellido_nombre.title(),division,fecha_nac\n",
        "for estudiante in estudiantes_5d:\n",
        "    print(estudiante)"
      ],
      "metadata": {
        "id": "5lFqJoTaSIWi",
        "outputId": "71b1c0a1-1f79-4a44-f90c-3da5c302c73b",
        "colab": {
          "base_uri": "https://localhost:8080/"
        }
      },
      "execution_count": null,
      "outputs": [
        {
          "output_type": "stream",
          "name": "stdout",
          "text": [
            "('Alurralde, Solange Stefania', 'D', '02/04/2007')\n",
            "('Alvarado, Ludmila Del Milagro', 'D', '06/09/2006')\n",
            "('Angel, Camila Juliana', 'D', '07/03/2007')\n",
            "('Arenas, Lucas Gabriel', 'D', '26/06/2007')\n",
            "('Caseres, Maria Antonia', 'D', '01/07/2006')\n",
            "('Castillo, Paulina Milagros', 'D', '01/06/2007')\n",
            "('Correa Segovia, Hugo Mariano', 'D', '04/12/2006')\n",
            "('D Elia, Alvaro Tadeo', 'D', '27/08/2006')\n",
            "('Flores, Victoria Agustina', 'D', '12/12/2006')\n",
            "('Geronimo Soriano, Lizzie Amaya', 'D', '20/01/2007')\n",
            "('Guzman, Angélica Morena', 'D', '11/04/2007')\n",
            "('Guzman, Jazmin Esmeralda Belen', 'D', '31/07/2006')\n",
            "('Jaime, Anita Maria Belen', 'D', '19/04/2007')\n",
            "('Lacour Polo, Nazarena', 'D', '19/12/2005')\n",
            "('Lascano Guanca, Marcelo Fabricio', 'D', '17/02/2006')\n",
            "('Lezcano, Celia Morena', 'D', '01/07/2005')\n",
            "('Martinez, Tomas Andres', 'D', '22/03/2007')\n",
            "('Portella Valdivia, Pedro Francisco', 'D', '24/01/2007')\n",
            "('Retamal Cisneros, Zacarias Josue', 'D', '24/02/2007')\n",
            "('Rosales, Francisco Gabriel', 'D', '14/11/2006')\n",
            "('Salem Barba, Mahia', 'D', '14/10/2005')\n",
            "('Soto Camara, Agustin Ignacio', 'D', '07/11/2005')\n",
            "('Villalba, Irina', 'D', '09/09/2006')\n",
            "('Voltolini, Emanuel Tobias', 'D', '17/09/2006')\n",
            "('Zalazar, Santino Stefano', 'D', '30/09/2006')\n",
            "('Abud Laspiur, Lourdes Mariel', 'C', '05/12/2006')\n",
            "('Amador, Luana Micaela', 'C', '09/12/2006')\n",
            "('Anaquin, Leonardo Ezequiel', 'C', '06/09/2005')\n",
            "('Araoz Sanchez, Lautaro Nahuel', 'C', '28/12/2005')\n",
            "('Argañaraz, Agostina Abril', 'C', '11/10/2006')\n",
            "('Barrera, Matias Ezequiel', 'C', '27/02/2007')\n",
            "('Barrozo Vedia, Joaquin Nicolas', 'C', '15/04/2006')\n",
            "('Bettinelli, Valentino', 'C', '12/07/2006')\n",
            "('Bracamonte Martinez, Salvador', 'C', '02/11/2005')\n",
            "('Colque Rivero, Ariana Zoe Del Valle', 'C', '27/12/2006')\n",
            "('Diaz, Dulce Maitena', 'C', '11/12/2006')\n",
            "('Figueroa, Santino Josue', 'C', '12/05/2007')\n",
            "('Flores Cardozo, Agustina Tiara', 'C', '18/03/2006')\n",
            "('Gallo, Octavio Ismael', 'C', '04/08/2006')\n",
            "('Galvan, Lourdes Yamila', 'C', '19/08/2005')\n",
            "('Giangreco, Vitto Tomasso', 'C', '21/03/2007')\n",
            "('Grancara, Martina Luna', 'C', '15/12/2006')\n",
            "('Guanca, Sara Elizabeth', 'C', '17/01/2007')\n",
            "('Lopez, Victoria Constanza', 'C', '12/11/2007')\n",
            "('Mamani Garrido, Rosario Agostina', 'C', '24/10/2006')\n",
            "('Marinaro, Martin Ezequiel', 'C', '03/11/2006')\n",
            "('Merluzzi Dagum, Ignacio', 'C', '22/12/2005')\n",
            "('Messina, Martina', 'C', '13/07/2005')\n",
            "('Rasuk, Karim', 'C', '13/07/2007')\n",
            "('Rios, Lucia Magali', 'C', '22/09/2006')\n",
            "('Sanchez Flores, Matías Agustín', 'C', '15/02/2007')\n",
            "('Scarano, Renato Marcelo', 'C', '06/12/2006')\n",
            "('Sierra, Lucas Mauricio', 'C', '03/04/2005')\n",
            "('Tapia, Martin Gabriel', 'C', '30/05/2006')\n",
            "('Vilte, Mia Antonella Alondra', 'C', '10/09/2005')\n",
            "('Virgillito, Katya Milena', 'C', '19/06/2007')\n"
          ]
        }
      ]
    },
    {
      "cell_type": "code",
      "source": [
        "estudiantes=[]\n",
        "for i in range(len(estudiantes_5c)):\n",
        "   apellido_nombre,division,fecha_nac=estudiantes_5c[i]\n",
        "   estudiantes.append((apellido_nombre.title(),division,fecha_nac))\n",
        "for i in range(len(estudiantes_5d)):\n",
        "   apellido_nombre,division,fecha_nac=estudiantes_5d[i]\n",
        "   estudiantes.append((apellido_nombre.title(),division,fecha_nac))\n",
        "for estudiante in estudiantes:\n",
        "   print(estudiante)"
      ],
      "metadata": {
        "id": "OW9HduT1oa8A",
        "outputId": "e88aa946-0351-451c-b36b-e9d6dcf89dd1",
        "colab": {
          "base_uri": "https://localhost:8080/"
        }
      },
      "execution_count": null,
      "outputs": [
        {
          "output_type": "stream",
          "name": "stdout",
          "text": [
            "('Abud Laspiur, Lourdes Mariel', 'C', '05/12/2006')\n",
            "('Amador, Luana Micaela', 'C', '09/12/2006')\n",
            "('Anaquin, Leonardo Ezequiel', 'C', '06/09/2005')\n",
            "('Araoz Sanchez, Lautaro Nahuel', 'C', '28/12/2005')\n",
            "('Argañaraz, Agostina Abril', 'C', '11/10/2006')\n",
            "('Barrera, Matias Ezequiel', 'C', '27/02/2007')\n",
            "('Barrozo Vedia, Joaquin Nicolas', 'C', '15/04/2006')\n",
            "('Bettinelli, Valentino', 'C', '12/07/2006')\n",
            "('Bracamonte Martinez, Salvador', 'C', '02/11/2005')\n",
            "('Colque Rivero, Ariana Zoe Del Valle', 'C', '27/12/2006')\n",
            "('Diaz, Dulce Maitena', 'C', '11/12/2006')\n",
            "('Figueroa, Santino Josue', 'C', '12/05/2007')\n",
            "('Flores Cardozo, Agustina Tiara', 'C', '18/03/2006')\n",
            "('Gallo, Octavio Ismael', 'C', '04/08/2006')\n",
            "('Galvan, Lourdes Yamila', 'C', '19/08/2005')\n",
            "('Giangreco, Vitto Tomasso', 'C', '21/03/2007')\n",
            "('Grancara, Martina Luna', 'C', '15/12/2006')\n",
            "('Guanca, Sara Elizabeth', 'C', '17/01/2007')\n",
            "('Lopez, Victoria Constanza', 'C', '12/11/2007')\n",
            "('Mamani Garrido, Rosario Agostina', 'C', '24/10/2006')\n",
            "('Marinaro, Martin Ezequiel', 'C', '03/11/2006')\n",
            "('Merluzzi Dagum, Ignacio', 'C', '22/12/2005')\n",
            "('Messina, Martina', 'C', '13/07/2005')\n",
            "('Rasuk, Karim', 'C', '13/07/2007')\n",
            "('Rios, Lucia Magali', 'C', '22/09/2006')\n",
            "('Sanchez Flores, Matías Agustín', 'C', '15/02/2007')\n",
            "('Scarano, Renato Marcelo', 'C', '06/12/2006')\n",
            "('Sierra, Lucas Mauricio', 'C', '03/04/2005')\n",
            "('Tapia, Martin Gabriel', 'C', '30/05/2006')\n",
            "('Vilte, Mia Antonella Alondra', 'C', '10/09/2005')\n",
            "('Virgillito, Katya Milena', 'C', '19/06/2007')\n",
            "('Alurralde, Solange Stefania', 'D', '02/04/2007')\n",
            "('Alvarado, Ludmila Del Milagro', 'D', '06/09/2006')\n",
            "('Angel, Camila Juliana', 'D', '07/03/2007')\n",
            "('Arenas, Lucas Gabriel', 'D', '26/06/2007')\n",
            "('Caseres, Maria Antonia', 'D', '01/07/2006')\n",
            "('Castillo, Paulina Milagros', 'D', '01/06/2007')\n",
            "('Correa Segovia, Hugo Mariano', 'D', '04/12/2006')\n",
            "('D Elia, Alvaro Tadeo', 'D', '27/08/2006')\n",
            "('Flores, Victoria Agustina', 'D', '12/12/2006')\n",
            "('Geronimo Soriano, Lizzie Amaya', 'D', '20/01/2007')\n",
            "('Guzman, Angélica Morena', 'D', '11/04/2007')\n",
            "('Guzman, Jazmin Esmeralda Belen', 'D', '31/07/2006')\n",
            "('Jaime, Anita Maria Belen', 'D', '19/04/2007')\n",
            "('Lacour Polo, Nazarena', 'D', '19/12/2005')\n",
            "('Lascano Guanca, Marcelo Fabricio', 'D', '17/02/2006')\n",
            "('Lezcano, Celia Morena', 'D', '01/07/2005')\n",
            "('Martinez, Tomas Andres', 'D', '22/03/2007')\n",
            "('Portella Valdivia, Pedro Francisco', 'D', '24/01/2007')\n",
            "('Retamal Cisneros, Zacarias Josue', 'D', '24/02/2007')\n",
            "('Rosales, Francisco Gabriel', 'D', '14/11/2006')\n",
            "('Salem Barba, Mahia', 'D', '14/10/2005')\n",
            "('Soto Camara, Agustin Ignacio', 'D', '07/11/2005')\n",
            "('Villalba, Irina', 'D', '09/09/2006')\n",
            "('Voltolini, Emanuel Tobias', 'D', '17/09/2006')\n",
            "('Zalazar, Santino Stefano', 'D', '30/09/2006')\n",
            "('Abud Laspiur, Lourdes Mariel', 'C', '05/12/2006')\n",
            "('Amador, Luana Micaela', 'C', '09/12/2006')\n",
            "('Anaquin, Leonardo Ezequiel', 'C', '06/09/2005')\n",
            "('Araoz Sanchez, Lautaro Nahuel', 'C', '28/12/2005')\n",
            "('Argañaraz, Agostina Abril', 'C', '11/10/2006')\n",
            "('Barrera, Matias Ezequiel', 'C', '27/02/2007')\n",
            "('Barrozo Vedia, Joaquin Nicolas', 'C', '15/04/2006')\n",
            "('Bettinelli, Valentino', 'C', '12/07/2006')\n",
            "('Bracamonte Martinez, Salvador', 'C', '02/11/2005')\n",
            "('Colque Rivero, Ariana Zoe Del Valle', 'C', '27/12/2006')\n",
            "('Diaz, Dulce Maitena', 'C', '11/12/2006')\n",
            "('Figueroa, Santino Josue', 'C', '12/05/2007')\n",
            "('Flores Cardozo, Agustina Tiara', 'C', '18/03/2006')\n",
            "('Gallo, Octavio Ismael', 'C', '04/08/2006')\n",
            "('Galvan, Lourdes Yamila', 'C', '19/08/2005')\n",
            "('Giangreco, Vitto Tomasso', 'C', '21/03/2007')\n",
            "('Grancara, Martina Luna', 'C', '15/12/2006')\n",
            "('Guanca, Sara Elizabeth', 'C', '17/01/2007')\n",
            "('Lopez, Victoria Constanza', 'C', '12/11/2007')\n",
            "('Mamani Garrido, Rosario Agostina', 'C', '24/10/2006')\n",
            "('Marinaro, Martin Ezequiel', 'C', '03/11/2006')\n",
            "('Merluzzi Dagum, Ignacio', 'C', '22/12/2005')\n",
            "('Messina, Martina', 'C', '13/07/2005')\n",
            "('Rasuk, Karim', 'C', '13/07/2007')\n",
            "('Rios, Lucia Magali', 'C', '22/09/2006')\n",
            "('Sanchez Flores, Matías Agustín', 'C', '15/02/2007')\n",
            "('Scarano, Renato Marcelo', 'C', '06/12/2006')\n",
            "('Sierra, Lucas Mauricio', 'C', '03/04/2005')\n",
            "('Tapia, Martin Gabriel', 'C', '30/05/2006')\n",
            "('Vilte, Mia Antonella Alondra', 'C', '10/09/2005')\n",
            "('Virgillito, Katya Milena', 'C', '19/06/2007')\n"
          ]
        }
      ]
    },
    {
      "cell_type": "markdown",
      "source": [
        "2. Genera una lista de diccionarios con los datos de las listas, donde las claves de los mismos serán:\n",
        "- \"apellido\"\n",
        "- \"nombre\"\n",
        "- \"curso\"\n",
        "- \"division\"\n",
        "- \"feha_de_nacimiento\"\n",
        "\n",
        "Muestra la información generada."
      ],
      "metadata": {
        "id": "dYEGkYZyLy9I"
      }
    },
    {
      "cell_type": "code",
      "source": [
        "lista_dict=[]\n",
        "for estudiante in estudiantes:\n",
        "   nombre_completo,division,fecha_nacimiento=estudiante\n",
        "   apellido,nombre=nombre_completo.split(\",\")\n",
        "   nombre=nombre.strip()\n",
        "   diccionario={}\n",
        "   diccionario[\"nombre\"]=nombre\n",
        "   diccionario[\"apellido\"]=apellido\n",
        "   diccionario[\"division\"]=division\n",
        "   diccionario[\"curso\"]=5\n",
        "   diccionario[\"fecha_nacimiento\"]=fecha_nacimiento\n",
        "   lista_dict.append(diccionario)\n",
        "for estudiante in lista_dict:\n",
        "   print(estudiante)"
      ],
      "metadata": {
        "id": "Lt1fCsjxl5Cn",
        "outputId": "1b561c9a-7c69-4c5e-aef4-1f14783227d3",
        "colab": {
          "base_uri": "https://localhost:8080/"
        }
      },
      "execution_count": null,
      "outputs": [
        {
          "output_type": "stream",
          "name": "stdout",
          "text": [
            "{'nombre': 'Lourdes Mariel', 'apellido': 'Abud Laspiur', 'division': 'C', 'curso': 5, 'fecha_nacimiento': '05/12/2006'}\n",
            "{'nombre': 'Luana Micaela', 'apellido': 'Amador', 'division': 'C', 'curso': 5, 'fecha_nacimiento': '09/12/2006'}\n",
            "{'nombre': 'Leonardo Ezequiel', 'apellido': 'Anaquin', 'division': 'C', 'curso': 5, 'fecha_nacimiento': '06/09/2005'}\n",
            "{'nombre': 'Lautaro Nahuel', 'apellido': 'Araoz Sanchez', 'division': 'C', 'curso': 5, 'fecha_nacimiento': '28/12/2005'}\n",
            "{'nombre': 'Agostina Abril', 'apellido': 'Argañaraz', 'division': 'C', 'curso': 5, 'fecha_nacimiento': '11/10/2006'}\n",
            "{'nombre': 'Matias Ezequiel', 'apellido': 'Barrera', 'division': 'C', 'curso': 5, 'fecha_nacimiento': '27/02/2007'}\n",
            "{'nombre': 'Joaquin Nicolas', 'apellido': 'Barrozo Vedia', 'division': 'C', 'curso': 5, 'fecha_nacimiento': '15/04/2006'}\n",
            "{'nombre': 'Valentino', 'apellido': 'Bettinelli', 'division': 'C', 'curso': 5, 'fecha_nacimiento': '12/07/2006'}\n",
            "{'nombre': 'Salvador', 'apellido': 'Bracamonte Martinez', 'division': 'C', 'curso': 5, 'fecha_nacimiento': '02/11/2005'}\n",
            "{'nombre': 'Ariana Zoe Del Valle', 'apellido': 'Colque Rivero', 'division': 'C', 'curso': 5, 'fecha_nacimiento': '27/12/2006'}\n",
            "{'nombre': 'Dulce Maitena', 'apellido': 'Diaz', 'division': 'C', 'curso': 5, 'fecha_nacimiento': '11/12/2006'}\n",
            "{'nombre': 'Santino Josue', 'apellido': 'Figueroa', 'division': 'C', 'curso': 5, 'fecha_nacimiento': '12/05/2007'}\n",
            "{'nombre': 'Agustina Tiara', 'apellido': 'Flores Cardozo', 'division': 'C', 'curso': 5, 'fecha_nacimiento': '18/03/2006'}\n",
            "{'nombre': 'Octavio Ismael', 'apellido': 'Gallo', 'division': 'C', 'curso': 5, 'fecha_nacimiento': '04/08/2006'}\n",
            "{'nombre': 'Lourdes Yamila', 'apellido': 'Galvan', 'division': 'C', 'curso': 5, 'fecha_nacimiento': '19/08/2005'}\n",
            "{'nombre': 'Vitto Tomasso', 'apellido': 'Giangreco', 'division': 'C', 'curso': 5, 'fecha_nacimiento': '21/03/2007'}\n",
            "{'nombre': 'Martina Luna', 'apellido': 'Grancara', 'division': 'C', 'curso': 5, 'fecha_nacimiento': '15/12/2006'}\n",
            "{'nombre': 'Sara Elizabeth', 'apellido': 'Guanca', 'division': 'C', 'curso': 5, 'fecha_nacimiento': '17/01/2007'}\n",
            "{'nombre': 'Victoria Constanza', 'apellido': 'Lopez', 'division': 'C', 'curso': 5, 'fecha_nacimiento': '12/11/2007'}\n",
            "{'nombre': 'Rosario Agostina', 'apellido': 'Mamani Garrido', 'division': 'C', 'curso': 5, 'fecha_nacimiento': '24/10/2006'}\n",
            "{'nombre': 'Martin Ezequiel', 'apellido': 'Marinaro', 'division': 'C', 'curso': 5, 'fecha_nacimiento': '03/11/2006'}\n",
            "{'nombre': 'Ignacio', 'apellido': 'Merluzzi Dagum', 'division': 'C', 'curso': 5, 'fecha_nacimiento': '22/12/2005'}\n",
            "{'nombre': 'Martina', 'apellido': 'Messina', 'division': 'C', 'curso': 5, 'fecha_nacimiento': '13/07/2005'}\n",
            "{'nombre': 'Karim', 'apellido': 'Rasuk', 'division': 'C', 'curso': 5, 'fecha_nacimiento': '13/07/2007'}\n",
            "{'nombre': 'Lucia Magali', 'apellido': 'Rios', 'division': 'C', 'curso': 5, 'fecha_nacimiento': '22/09/2006'}\n",
            "{'nombre': 'Matías Agustín', 'apellido': 'Sanchez Flores', 'division': 'C', 'curso': 5, 'fecha_nacimiento': '15/02/2007'}\n",
            "{'nombre': 'Renato Marcelo', 'apellido': 'Scarano', 'division': 'C', 'curso': 5, 'fecha_nacimiento': '06/12/2006'}\n",
            "{'nombre': 'Lucas Mauricio', 'apellido': 'Sierra', 'division': 'C', 'curso': 5, 'fecha_nacimiento': '03/04/2005'}\n",
            "{'nombre': 'Martin Gabriel', 'apellido': 'Tapia', 'division': 'C', 'curso': 5, 'fecha_nacimiento': '30/05/2006'}\n",
            "{'nombre': 'Mia Antonella Alondra', 'apellido': 'Vilte', 'division': 'C', 'curso': 5, 'fecha_nacimiento': '10/09/2005'}\n",
            "{'nombre': 'Katya Milena', 'apellido': 'Virgillito', 'division': 'C', 'curso': 5, 'fecha_nacimiento': '19/06/2007'}\n",
            "{'nombre': 'Solange Stefania', 'apellido': 'Alurralde', 'division': 'D', 'curso': 5, 'fecha_nacimiento': '02/04/2007'}\n",
            "{'nombre': 'Ludmila Del Milagro', 'apellido': 'Alvarado', 'division': 'D', 'curso': 5, 'fecha_nacimiento': '06/09/2006'}\n",
            "{'nombre': 'Camila Juliana', 'apellido': 'Angel', 'division': 'D', 'curso': 5, 'fecha_nacimiento': '07/03/2007'}\n",
            "{'nombre': 'Lucas Gabriel', 'apellido': 'Arenas', 'division': 'D', 'curso': 5, 'fecha_nacimiento': '26/06/2007'}\n",
            "{'nombre': 'Maria Antonia', 'apellido': 'Caseres', 'division': 'D', 'curso': 5, 'fecha_nacimiento': '01/07/2006'}\n",
            "{'nombre': 'Paulina Milagros', 'apellido': 'Castillo', 'division': 'D', 'curso': 5, 'fecha_nacimiento': '01/06/2007'}\n",
            "{'nombre': 'Hugo Mariano', 'apellido': 'Correa Segovia', 'division': 'D', 'curso': 5, 'fecha_nacimiento': '04/12/2006'}\n",
            "{'nombre': 'Alvaro Tadeo', 'apellido': 'D Elia', 'division': 'D', 'curso': 5, 'fecha_nacimiento': '27/08/2006'}\n",
            "{'nombre': 'Victoria Agustina', 'apellido': 'Flores', 'division': 'D', 'curso': 5, 'fecha_nacimiento': '12/12/2006'}\n",
            "{'nombre': 'Lizzie Amaya', 'apellido': 'Geronimo Soriano', 'division': 'D', 'curso': 5, 'fecha_nacimiento': '20/01/2007'}\n",
            "{'nombre': 'Angélica Morena', 'apellido': 'Guzman', 'division': 'D', 'curso': 5, 'fecha_nacimiento': '11/04/2007'}\n",
            "{'nombre': 'Jazmin Esmeralda Belen', 'apellido': 'Guzman', 'division': 'D', 'curso': 5, 'fecha_nacimiento': '31/07/2006'}\n",
            "{'nombre': 'Anita Maria Belen', 'apellido': 'Jaime', 'division': 'D', 'curso': 5, 'fecha_nacimiento': '19/04/2007'}\n",
            "{'nombre': 'Nazarena', 'apellido': 'Lacour Polo', 'division': 'D', 'curso': 5, 'fecha_nacimiento': '19/12/2005'}\n",
            "{'nombre': 'Marcelo Fabricio', 'apellido': 'Lascano Guanca', 'division': 'D', 'curso': 5, 'fecha_nacimiento': '17/02/2006'}\n",
            "{'nombre': 'Celia Morena', 'apellido': 'Lezcano', 'division': 'D', 'curso': 5, 'fecha_nacimiento': '01/07/2005'}\n",
            "{'nombre': 'Tomas Andres', 'apellido': 'Martinez', 'division': 'D', 'curso': 5, 'fecha_nacimiento': '22/03/2007'}\n",
            "{'nombre': 'Pedro Francisco', 'apellido': 'Portella Valdivia', 'division': 'D', 'curso': 5, 'fecha_nacimiento': '24/01/2007'}\n",
            "{'nombre': 'Zacarias Josue', 'apellido': 'Retamal Cisneros', 'division': 'D', 'curso': 5, 'fecha_nacimiento': '24/02/2007'}\n",
            "{'nombre': 'Francisco Gabriel', 'apellido': 'Rosales', 'division': 'D', 'curso': 5, 'fecha_nacimiento': '14/11/2006'}\n",
            "{'nombre': 'Mahia', 'apellido': 'Salem Barba', 'division': 'D', 'curso': 5, 'fecha_nacimiento': '14/10/2005'}\n",
            "{'nombre': 'Agustin Ignacio', 'apellido': 'Soto Camara', 'division': 'D', 'curso': 5, 'fecha_nacimiento': '07/11/2005'}\n",
            "{'nombre': 'Irina', 'apellido': 'Villalba', 'division': 'D', 'curso': 5, 'fecha_nacimiento': '09/09/2006'}\n",
            "{'nombre': 'Emanuel Tobias', 'apellido': 'Voltolini', 'division': 'D', 'curso': 5, 'fecha_nacimiento': '17/09/2006'}\n",
            "{'nombre': 'Santino Stefano', 'apellido': 'Zalazar', 'division': 'D', 'curso': 5, 'fecha_nacimiento': '30/09/2006'}\n",
            "{'nombre': 'Lourdes Mariel', 'apellido': 'Abud Laspiur', 'division': 'C', 'curso': 5, 'fecha_nacimiento': '05/12/2006'}\n",
            "{'nombre': 'Luana Micaela', 'apellido': 'Amador', 'division': 'C', 'curso': 5, 'fecha_nacimiento': '09/12/2006'}\n",
            "{'nombre': 'Leonardo Ezequiel', 'apellido': 'Anaquin', 'division': 'C', 'curso': 5, 'fecha_nacimiento': '06/09/2005'}\n",
            "{'nombre': 'Lautaro Nahuel', 'apellido': 'Araoz Sanchez', 'division': 'C', 'curso': 5, 'fecha_nacimiento': '28/12/2005'}\n",
            "{'nombre': 'Agostina Abril', 'apellido': 'Argañaraz', 'division': 'C', 'curso': 5, 'fecha_nacimiento': '11/10/2006'}\n",
            "{'nombre': 'Matias Ezequiel', 'apellido': 'Barrera', 'division': 'C', 'curso': 5, 'fecha_nacimiento': '27/02/2007'}\n",
            "{'nombre': 'Joaquin Nicolas', 'apellido': 'Barrozo Vedia', 'division': 'C', 'curso': 5, 'fecha_nacimiento': '15/04/2006'}\n",
            "{'nombre': 'Valentino', 'apellido': 'Bettinelli', 'division': 'C', 'curso': 5, 'fecha_nacimiento': '12/07/2006'}\n",
            "{'nombre': 'Salvador', 'apellido': 'Bracamonte Martinez', 'division': 'C', 'curso': 5, 'fecha_nacimiento': '02/11/2005'}\n",
            "{'nombre': 'Ariana Zoe Del Valle', 'apellido': 'Colque Rivero', 'division': 'C', 'curso': 5, 'fecha_nacimiento': '27/12/2006'}\n",
            "{'nombre': 'Dulce Maitena', 'apellido': 'Diaz', 'division': 'C', 'curso': 5, 'fecha_nacimiento': '11/12/2006'}\n",
            "{'nombre': 'Santino Josue', 'apellido': 'Figueroa', 'division': 'C', 'curso': 5, 'fecha_nacimiento': '12/05/2007'}\n",
            "{'nombre': 'Agustina Tiara', 'apellido': 'Flores Cardozo', 'division': 'C', 'curso': 5, 'fecha_nacimiento': '18/03/2006'}\n",
            "{'nombre': 'Octavio Ismael', 'apellido': 'Gallo', 'division': 'C', 'curso': 5, 'fecha_nacimiento': '04/08/2006'}\n",
            "{'nombre': 'Lourdes Yamila', 'apellido': 'Galvan', 'division': 'C', 'curso': 5, 'fecha_nacimiento': '19/08/2005'}\n",
            "{'nombre': 'Vitto Tomasso', 'apellido': 'Giangreco', 'division': 'C', 'curso': 5, 'fecha_nacimiento': '21/03/2007'}\n",
            "{'nombre': 'Martina Luna', 'apellido': 'Grancara', 'division': 'C', 'curso': 5, 'fecha_nacimiento': '15/12/2006'}\n",
            "{'nombre': 'Sara Elizabeth', 'apellido': 'Guanca', 'division': 'C', 'curso': 5, 'fecha_nacimiento': '17/01/2007'}\n",
            "{'nombre': 'Victoria Constanza', 'apellido': 'Lopez', 'division': 'C', 'curso': 5, 'fecha_nacimiento': '12/11/2007'}\n",
            "{'nombre': 'Rosario Agostina', 'apellido': 'Mamani Garrido', 'division': 'C', 'curso': 5, 'fecha_nacimiento': '24/10/2006'}\n",
            "{'nombre': 'Martin Ezequiel', 'apellido': 'Marinaro', 'division': 'C', 'curso': 5, 'fecha_nacimiento': '03/11/2006'}\n",
            "{'nombre': 'Ignacio', 'apellido': 'Merluzzi Dagum', 'division': 'C', 'curso': 5, 'fecha_nacimiento': '22/12/2005'}\n",
            "{'nombre': 'Martina', 'apellido': 'Messina', 'division': 'C', 'curso': 5, 'fecha_nacimiento': '13/07/2005'}\n",
            "{'nombre': 'Karim', 'apellido': 'Rasuk', 'division': 'C', 'curso': 5, 'fecha_nacimiento': '13/07/2007'}\n",
            "{'nombre': 'Lucia Magali', 'apellido': 'Rios', 'division': 'C', 'curso': 5, 'fecha_nacimiento': '22/09/2006'}\n",
            "{'nombre': 'Matías Agustín', 'apellido': 'Sanchez Flores', 'division': 'C', 'curso': 5, 'fecha_nacimiento': '15/02/2007'}\n",
            "{'nombre': 'Renato Marcelo', 'apellido': 'Scarano', 'division': 'C', 'curso': 5, 'fecha_nacimiento': '06/12/2006'}\n",
            "{'nombre': 'Lucas Mauricio', 'apellido': 'Sierra', 'division': 'C', 'curso': 5, 'fecha_nacimiento': '03/04/2005'}\n",
            "{'nombre': 'Martin Gabriel', 'apellido': 'Tapia', 'division': 'C', 'curso': 5, 'fecha_nacimiento': '30/05/2006'}\n",
            "{'nombre': 'Mia Antonella Alondra', 'apellido': 'Vilte', 'division': 'C', 'curso': 5, 'fecha_nacimiento': '10/09/2005'}\n",
            "{'nombre': 'Katya Milena', 'apellido': 'Virgillito', 'division': 'C', 'curso': 5, 'fecha_nacimiento': '19/06/2007'}\n"
          ]
        }
      ]
    },
    {
      "cell_type": "markdown",
      "source": [
        "3. Genera un diccionario en python, en donde la clave sea cada nombre que aparece en las listas y el valor será la cantidad de veces que se encuentra el mismo.\n",
        "Para este punto es posible fusionar ambas listas en una sola, recordá que hay un método que realiza esta acción.\n",
        "\n",
        "Mostrá la informacion generada"
      ],
      "metadata": {
        "id": "UW2dlBsGMAte"
      }
    },
    {
      "cell_type": "code",
      "source": [
        "lista_nombres=[]\n",
        "for estudiante in estudiantes:\n",
        "  nombre_c=estudiante[0]\n",
        "  apellidos,nombres=nombre_c.split(\",\")\n",
        "  nombres=nombres.split(\" \")\n",
        "  lista_nombres.extend(nombres)\n",
        "for i in range(len(nombres)):\n",
        "  nombres[i] = nombres[i].strip()\n",
        "lista_nombres.extend(nombres)\n",
        "diccionario_onombres={}\n",
        "for nombre in lista_nombres:\n",
        "   if nombre in diccionario_onombres.keys():\n",
        "      diccionario_onombres[nombre]+=1\n",
        "   else:\n",
        "      diccionario_onombres[nombre]=1\n",
        "\n",
        "for nombre,ocurrencia in diccionario_onombres.items():\n",
        "   print(f\"El nombre {nombre} apareció {ocurrencia} veces\")"
      ],
      "metadata": {
        "id": "EawAy4SANtkl",
        "outputId": "9d6d03bf-8a42-4b0e-ba08-0feb14352a54",
        "colab": {
          "base_uri": "https://localhost:8080/"
        }
      },
      "execution_count": null,
      "outputs": [
        {
          "output_type": "stream",
          "name": "stdout",
          "text": [
            "El nombre  apareció 88 veces\n",
            "El nombre Lourdes apareció 4 veces\n",
            "El nombre Mariel apareció 2 veces\n",
            "El nombre Luana apareció 2 veces\n",
            "El nombre Micaela apareció 2 veces\n",
            "El nombre Leonardo apareció 2 veces\n",
            "El nombre Ezequiel apareció 6 veces\n",
            "El nombre Lautaro apareció 2 veces\n",
            "El nombre Nahuel apareció 2 veces\n",
            "El nombre Agostina apareció 4 veces\n",
            "El nombre Abril apareció 2 veces\n",
            "El nombre Matias apareció 2 veces\n",
            "El nombre Joaquin apareció 2 veces\n",
            "El nombre Nicolas apareció 2 veces\n",
            "El nombre Valentino apareció 2 veces\n",
            "El nombre Salvador apareció 2 veces\n",
            "El nombre Ariana apareció 2 veces\n",
            "El nombre Zoe apareció 2 veces\n",
            "El nombre Del apareció 3 veces\n",
            "El nombre Valle apareció 2 veces\n",
            "El nombre Dulce apareció 2 veces\n",
            "El nombre Maitena apareció 2 veces\n",
            "El nombre Santino apareció 3 veces\n",
            "El nombre Josue apareció 3 veces\n",
            "El nombre Agustina apareció 3 veces\n",
            "El nombre Tiara apareció 2 veces\n",
            "El nombre Octavio apareció 2 veces\n",
            "El nombre Ismael apareció 2 veces\n",
            "El nombre Yamila apareció 2 veces\n",
            "El nombre Vitto apareció 2 veces\n",
            "El nombre Tomasso apareció 2 veces\n",
            "El nombre Martina apareció 4 veces\n",
            "El nombre Luna apareció 2 veces\n",
            "El nombre Sara apareció 2 veces\n",
            "El nombre Elizabeth apareció 2 veces\n",
            "El nombre Victoria apareció 3 veces\n",
            "El nombre Constanza apareció 2 veces\n",
            "El nombre Rosario apareció 2 veces\n",
            "El nombre Martin apareció 4 veces\n",
            "El nombre Ignacio apareció 3 veces\n",
            "El nombre Karim apareció 2 veces\n",
            "El nombre Lucia apareció 2 veces\n",
            "El nombre Magali apareció 2 veces\n",
            "El nombre Matías apareció 2 veces\n",
            "El nombre Agustín apareció 2 veces\n",
            "El nombre Renato apareció 2 veces\n",
            "El nombre Marcelo apareció 3 veces\n",
            "El nombre Lucas apareció 3 veces\n",
            "El nombre Mauricio apareció 2 veces\n",
            "El nombre Gabriel apareció 4 veces\n",
            "El nombre Mia apareció 2 veces\n",
            "El nombre Antonella apareció 2 veces\n",
            "El nombre Alondra apareció 2 veces\n",
            "El nombre Katya apareció 3 veces\n",
            "El nombre Milena apareció 3 veces\n",
            "El nombre Solange apareció 1 veces\n",
            "El nombre Stefania apareció 1 veces\n",
            "El nombre Ludmila apareció 1 veces\n",
            "El nombre Milagro apareció 1 veces\n",
            "El nombre Camila apareció 1 veces\n",
            "El nombre Juliana apareció 1 veces\n",
            "El nombre Maria apareció 2 veces\n",
            "El nombre Antonia apareció 1 veces\n",
            "El nombre Paulina apareció 1 veces\n",
            "El nombre Milagros apareció 1 veces\n",
            "El nombre Hugo apareció 1 veces\n",
            "El nombre Mariano apareció 1 veces\n",
            "El nombre Alvaro apareció 1 veces\n",
            "El nombre Tadeo apareció 1 veces\n",
            "El nombre Lizzie apareció 1 veces\n",
            "El nombre Amaya apareció 1 veces\n",
            "El nombre Angélica apareció 1 veces\n",
            "El nombre Morena apareció 2 veces\n",
            "El nombre Jazmin apareció 1 veces\n",
            "El nombre Esmeralda apareció 1 veces\n",
            "El nombre Belen apareció 2 veces\n",
            "El nombre Anita apareció 1 veces\n",
            "El nombre Nazarena apareció 1 veces\n",
            "El nombre Fabricio apareció 1 veces\n",
            "El nombre Celia apareció 1 veces\n",
            "El nombre Tomas apareció 1 veces\n",
            "El nombre Andres apareció 1 veces\n",
            "El nombre Pedro apareció 1 veces\n",
            "El nombre Francisco apareció 2 veces\n",
            "El nombre Zacarias apareció 1 veces\n",
            "El nombre Mahia apareció 1 veces\n",
            "El nombre Agustin apareció 1 veces\n",
            "El nombre Irina apareció 1 veces\n",
            "El nombre Emanuel apareció 1 veces\n",
            "El nombre Tobias apareció 1 veces\n",
            "El nombre Stefano apareció 1 veces\n"
          ]
        }
      ]
    },
    {
      "cell_type": "markdown",
      "source": [
        "4. Genera un diccionario en python, en donde la clave sea cada apellido que aparece en las listas y el valor será la cantidad de veces que se encuentra el mismo.\n",
        "Para este punto es posible fusionar ambas listas en una sola, recordá que hay un método que realiza esta acción."
      ],
      "metadata": {
        "id": "kZeEHUYVNwGV"
      }
    },
    {
      "cell_type": "code",
      "source": [
        "lista_apellidos=[]\n",
        "for estudiante in estudiantes:\n",
        "  nombre_co=estudiante[0]\n",
        "  apellidoss,nombress=nombre_co.split(\",\")\n",
        "  apellidoss=apellidoss.split(\" \")\n",
        "  lista_apellidos.extend(apellidoss)\n",
        "diccionario_oapellidos={}\n",
        "for apellido in lista_apellidos:\n",
        "   if apellido in diccionario_oapellidos.keys():\n",
        "      diccionario_oapellidos[apellido]+=1\n",
        "   else:\n",
        "      diccionario_oapellidos[apellido]=1\n",
        "\n",
        "for apellido,ocurrencia in diccionario_oapellidos.items():\n",
        "   print(f\"El apellido {apellido} apareció {ocurrencia} veces\")"
      ],
      "metadata": {
        "id": "q05GnxXgORzt",
        "outputId": "65efd02e-06fa-4a7b-8bc3-7826cce0e5bd",
        "colab": {
          "base_uri": "https://localhost:8080/"
        }
      },
      "execution_count": null,
      "outputs": [
        {
          "output_type": "stream",
          "name": "stdout",
          "text": [
            "El apellido Abud apareció 2 veces\n",
            "El apellido Laspiur apareció 2 veces\n",
            "El apellido Amador apareció 2 veces\n",
            "El apellido Anaquin apareció 2 veces\n",
            "El apellido Araoz apareció 2 veces\n",
            "El apellido Sanchez apareció 4 veces\n",
            "El apellido Argañaraz apareció 2 veces\n",
            "El apellido Barrera apareció 2 veces\n",
            "El apellido Barrozo apareció 2 veces\n",
            "El apellido Vedia apareció 2 veces\n",
            "El apellido Bettinelli apareció 2 veces\n",
            "El apellido Bracamonte apareció 2 veces\n",
            "El apellido Martinez apareció 3 veces\n",
            "El apellido Colque apareció 2 veces\n",
            "El apellido Rivero apareció 2 veces\n",
            "El apellido Diaz apareció 2 veces\n",
            "El apellido Figueroa apareció 2 veces\n",
            "El apellido Flores apareció 5 veces\n",
            "El apellido Cardozo apareció 2 veces\n",
            "El apellido Gallo apareció 2 veces\n",
            "El apellido Galvan apareció 2 veces\n",
            "El apellido Giangreco apareció 2 veces\n",
            "El apellido Grancara apareció 2 veces\n",
            "El apellido Guanca apareció 3 veces\n",
            "El apellido Lopez apareció 2 veces\n",
            "El apellido Mamani apareció 2 veces\n",
            "El apellido Garrido apareció 2 veces\n",
            "El apellido Marinaro apareció 2 veces\n",
            "El apellido Merluzzi apareció 2 veces\n",
            "El apellido Dagum apareció 2 veces\n",
            "El apellido Messina apareció 2 veces\n",
            "El apellido Rasuk apareció 2 veces\n",
            "El apellido Rios apareció 2 veces\n",
            "El apellido Scarano apareció 2 veces\n",
            "El apellido Sierra apareció 2 veces\n",
            "El apellido Tapia apareció 2 veces\n",
            "El apellido Vilte apareció 2 veces\n",
            "El apellido Virgillito apareció 2 veces\n",
            "El apellido Alurralde apareció 1 veces\n",
            "El apellido Alvarado apareció 1 veces\n",
            "El apellido Angel apareció 1 veces\n",
            "El apellido Arenas apareció 1 veces\n",
            "El apellido Caseres apareció 1 veces\n",
            "El apellido Castillo apareció 1 veces\n",
            "El apellido Correa apareció 1 veces\n",
            "El apellido Segovia apareció 1 veces\n",
            "El apellido D apareció 1 veces\n",
            "El apellido Elia apareció 1 veces\n",
            "El apellido Geronimo apareció 1 veces\n",
            "El apellido Soriano apareció 1 veces\n",
            "El apellido Guzman apareció 2 veces\n",
            "El apellido Jaime apareció 1 veces\n",
            "El apellido Lacour apareció 1 veces\n",
            "El apellido Polo apareció 1 veces\n",
            "El apellido Lascano apareció 1 veces\n",
            "El apellido Lezcano apareció 1 veces\n",
            "El apellido Portella apareció 1 veces\n",
            "El apellido Valdivia apareció 1 veces\n",
            "El apellido Retamal apareció 1 veces\n",
            "El apellido Cisneros apareció 1 veces\n",
            "El apellido Rosales apareció 1 veces\n",
            "El apellido Salem apareció 1 veces\n",
            "El apellido Barba apareció 1 veces\n",
            "El apellido Soto apareció 1 veces\n",
            "El apellido Camara apareció 1 veces\n",
            "El apellido Villalba apareció 1 veces\n",
            "El apellido Voltolini apareció 1 veces\n",
            "El apellido Zalazar apareció 1 veces\n"
          ]
        }
      ]
    },
    {
      "cell_type": "markdown",
      "source": [
        "5. Solicita al usuario que ingrese un apellido y muestra  a todos los estudiantes con ese apellido."
      ],
      "metadata": {
        "id": "ywYmA2JQNp3T"
      }
    },
    {
      "cell_type": "code",
      "source": [
        "ap=input(\"Ingrese un apellido: \").title()\n",
        "for estudiante in lista_dict:\n",
        "  if ap in estudiante[\"apellido\"]:\n",
        "    print(estudiante)"
      ],
      "metadata": {
        "id": "Cnp334ZrOCjK",
        "outputId": "cf9611d7-db2c-4ae3-d1cb-23dae5afbb57",
        "colab": {
          "base_uri": "https://localhost:8080/"
        }
      },
      "execution_count": null,
      "outputs": [
        {
          "output_type": "stream",
          "name": "stdout",
          "text": [
            "Ingrese un apellido: Lascano\n",
            "{'nombre': 'Marcelo Fabricio', 'apellido': 'Lascano Guanca', 'division': 'D', 'curso': 5, 'fecha_nacimiento': '17/02/2006'}\n"
          ]
        }
      ]
    },
    {
      "cell_type": "markdown",
      "source": [
        "6. Solicita al usuario que ingrese un nombre y muestra a todos los estudiantes con el nombre ingresado."
      ],
      "metadata": {
        "id": "iAXts6saODoU"
      }
    },
    {
      "cell_type": "code",
      "source": [
        "nombre=input(\"Ingrese un nombre: \").title()\n",
        "for estudiante in lista_dict:\n",
        "  if nombre in estudiante[\"nombre\"]:\n",
        "    print(estudiante)"
      ],
      "metadata": {
        "id": "FMRsUlvtOJS_",
        "outputId": "69498313-5bb1-4bb2-d684-5199b4ae1502",
        "colab": {
          "base_uri": "https://localhost:8080/"
        }
      },
      "execution_count": null,
      "outputs": [
        {
          "output_type": "stream",
          "name": "stdout",
          "text": [
            "Ingrese un nombre: Fabricio\n",
            "{'nombre': 'Marcelo Fabricio', 'apellido': 'Lascano Guanca', 'division': 'D', 'curso': 5, 'fecha_nacimiento': '17/02/2006'}\n"
          ]
        }
      ]
    },
    {
      "cell_type": "markdown",
      "source": [
        "7. Busca el diccionario con tu información dentro de la lista y cámbiate de división, de tal manera que si estas en 5C, con el cambio quedes en 5D y viceversa."
      ],
      "metadata": {
        "id": "T4PFiwwdOK27"
      }
    },
    {
      "cell_type": "code",
      "source": [
        "nombre = input(\"Ingrese su nombre: \").title()\n",
        "for i in estudiantes_5d:\n",
        "  if nombre in i[0]:\n",
        "    i = list(i)\n",
        "    i[1] = 'C'\n",
        "    i[2] = '5C'\n",
        "    i = tuple(i)\n",
        "    print(i)\n",
        "for i in estudiantes_5c:\n",
        "  if nombre in i[0]:\n",
        "    i = list(i)\n",
        "    i[1] = 'D'\n",
        "    i[2] = '5D'\n",
        "    i = tuple(i)\n",
        "    print(i)\n"
      ],
      "metadata": {
        "id": "vjQ2X9x3OmFr",
        "outputId": "633a9699-0095-4b24-8814-ddb33145951c",
        "colab": {
          "base_uri": "https://localhost:8080/"
        }
      },
      "execution_count": null,
      "outputs": [
        {
          "output_type": "stream",
          "name": "stdout",
          "text": [
            "Ingrese su nombre: emanuel\n",
            "('Voltolini, Emanuel Tobias', 'C', '5C')\n"
          ]
        }
      ]
    },
    {
      "cell_type": "markdown",
      "source": [
        "8. Ordenar la lista alfabeticamente por nombre. Ascendente y descendentemente. Para elegir como ordenarla, mostrar un menú donde el usuario podrá decidir como quiere ver la salida."
      ],
      "metadata": {
        "id": "xfy8SFlZRVGf"
      }
    },
    {
      "cell_type": "code",
      "source": [
        "ordenar = input(\"\"\"La lista de estudiantes se ordenará de forma alfabética por el nombre. Por favor, ingrese alguna de estas opciones para determinar el orden:\n",
        "        [A] Ascendente (A-Z)\n",
        "        [D] Descendente (Z-A)\n",
        "\n",
        "        Su respuesta: \"\"\").upper()\n",
        "estudiantes.sort(key=lambda x: x[\"nombre\"])\n",
        "if ordenar == \"D\":\n",
        "    estudiantes.reverse()\n",
        "for estudiante in estudiantes:\n",
        "        print(estudiante)"
      ],
      "metadata": {
        "id": "E4Onk1FNRUa2"
      },
      "execution_count": null,
      "outputs": []
    },
    {
      "cell_type": "markdown",
      "source": [
        "9. Ordenar la lista alfabeticamente por apellido. Ascendente y descendentemente. Para elegir como ordenarla, mostrar un menú donde el usuario podrá decidir como quiere ver la salida."
      ],
      "metadata": {
        "id": "lW18NgPjRcGP"
      }
    },
    {
      "cell_type": "code",
      "source": [
        "ordenar = input(\"\"\"La lista de estudiantes se ordenará de forma alfabética por el apellido. Por favor, ingrese alguna de estas opciones para determinar el orden:\n",
        "        [A] Ascendente (A-Z)\n",
        "        [D] Descendente (Z-A)\n",
        "\n",
        "        Su respuesta: \"\"\").upper()\n",
        "estudiantes.sort(key=lambda x: x[\"apellido\"])\n",
        "if ordenar == \"D\":\n",
        "    estudiantes.reverse()\n",
        "for estudiante in estudiantes:\n",
        "        print(estudiante)"
      ],
      "metadata": {
        "id": "cXYnO7Khjm-z"
      },
      "execution_count": null,
      "outputs": []
    },
    {
      "cell_type": "markdown",
      "source": [
        "10. Ordena la lista por fecha de nacimiento, de manera ascendente y descendente."
      ],
      "metadata": {
        "id": "E24lH7x5Xbur"
      }
    },
    {
      "cell_type": "code",
      "source": [],
      "metadata": {
        "id": "9SeI3GBGXims"
      },
      "execution_count": null,
      "outputs": []
    },
    {
      "cell_type": "markdown",
      "source": [
        "11. Generar una estuctura de diccionario anidado en donde la clave sea el nombre del estudiante y el valor sea un diccionario con los datos del mismo, de la siguiente manera:\n",
        "\n",
        "\n",
        "\n",
        "\n",
        "```python\n",
        "estudiantes = {\n",
        "    \"Juan Perez\": {\n",
        "        \"año\": 2024,\n",
        "        \"división\": \"5D\",\n",
        "        \"fecha de nacimiento\": \"15/03/2006\"\n",
        "    },\n",
        "    \"Maria Gomez\": {\n",
        "        \"año\": 2024,\n",
        "        \"división\": \"5D\",\n",
        "        \"fecha de nacimiento\": \"22/07/2006\"\n",
        "    },\n",
        "    \"Carlos Lopez\": {\n",
        "        \"año\": 2024,\n",
        "        \"división\": \"5D\",\n",
        "        \"fecha de nacimiento\": \"05/10/2006\"\n",
        "    }\n",
        "}\n",
        "```\n",
        "\n",
        "\n",
        "\n",
        "\n"
      ],
      "metadata": {
        "id": "vOY6K_ydRc3Q"
      }
    },
    {
      "cell_type": "code",
      "source": [
        "estudiantes_dict = {}\n",
        "for estudiante in estudiantes:\n",
        "    nombre_completo = f\"{estudiante['apellido']}, {estudiante['nombre']}\"\n",
        "    estudiantes_dict[nombre_completo] = {\n",
        "        \"año\": 2024,\n",
        "        \"división\": f\"{estudiante['curso']}{estudiante['division']}\",\n",
        "        \"fecha de nacimiento\": estudiante[\"fecha de nacimiento\"]\n",
        "    }\n",
        "for nombre, datos in estudiantes_dict.items():\n",
        "    print(f\"{nombre}:\")\n",
        "    print(f\"  Año: {datos['año']}\")\n",
        "    print(f\"  División: {datos['división']}\")\n",
        "    print(f\"  Fecha de nacimiento: {datos['fecha de nacimiento']}\")\n",
        "    print()"
      ],
      "metadata": {
        "id": "9JDrd3WqRdTi"
      },
      "execution_count": null,
      "outputs": []
    }
  ]
}